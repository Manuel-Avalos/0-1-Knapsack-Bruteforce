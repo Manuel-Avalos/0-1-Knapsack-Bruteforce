{
 "cells": [
  {
   "cell_type": "code",
   "execution_count": 1,
   "metadata": {
    "collapsed": true
   },
   "outputs": [],
   "source": [
    "knapsack2 <- function(b,c,tol){\n",
    "  \n",
    "  strt <- Sys.time() #used to record calculation time \n",
    "  \n",
    "  n <- length(b) # legnth of given benefit and cost vectors\n",
    "  \n",
    "  t <- numeric(n) #create a vector with length n\n",
    "  \n",
    "  t <- c(rep(0, n)) # make this vector the zero vector of length n\n",
    "  \n",
    "  x <- logical(n) # logical tester, a vector of length n containg either TRUE or FALSE, used later\n",
    "  \n",
    "  l <- rep(list(0:1), n) #create a list with the vector c(0,1) n times\n",
    "  \n",
    "  m <- as.data.frame(expand.grid(l)) # create a matrix with all combinations of c(0,1) with n columns\n",
    "  \n",
    "  j <- as.data.frame(matrix(data = 1, nrow = (2^n), ncol = n)) # create a random matrix j to put stuff in\n",
    " \n",
    "  for(i in 1:nrow(m)){ #this creates a solution matrix out of j containing all possible answers \n",
    "    if(sum(m[i,]*c) <= tol){ \n",
    "      j[i,] <- m[i,] # replaces rows of j with all possible rows of m satisfying sum(m[i,]*c) <= tol\n",
    "    }\n",
    "    else {\n",
    "      j[i,] <- t # if sum(m[i,]*c > tol then replace this row in j with the zero vector (infeasible answer)\n",
    "    }  \n",
    "  }\n",
    "  \n",
    "  answer <- as.data.frame(matrix(data = 1, nrow = (2^n), ncol = n)) # create a matrix \n",
    "  \n",
    "  for(i in 1:nrow(j)){\n",
    "    answer[i,] <- j[i,]*b # this fills the matrix we just built with the multiplication of the benefit vector \n",
    "  }                       #by each row of the solution matrix\n",
    "  \n",
    "  fun <- max(rowSums(answer)) # this vector picks our the max of the row sums of our answer matrix\n",
    "  #fun is our max benefit amount and where we can find the optimal solution\n",
    "  \n",
    "  ans <- numeric(2^n) # creates a vector with 2^n slots\n",
    "  \n",
    "  for(i in 1:(2^n)){ \n",
    "    ans[i] <- rowSums(answer[i,]) # puts all row sums from answer matrix in a vector\n",
    "  }\n",
    "  \n",
    "  for(i in 1:(2^n)){ #this for loop does two things\n",
    "    \n",
    "    if(ans[i] == fun){ # first it finds the index in the row sums vector cooresponding to the max benefit\n",
    "      \n",
    "      fin <- j[i,] # this is our solition vecor with 1's and 0's\n",
    "      \n",
    "      for(k in 1:n){ # this picks out the index for values continaining 1 corresponding to solution vecotor\n",
    "        if(fin[k] == 1){\n",
    "          x[k] <- TRUE #this is how we will know what items to take\n",
    "        }\n",
    "        else{\n",
    "          x[k] <- FALSE # false means don't take that index item\n",
    "        }\n",
    "      }\n",
    "      break # ends the loop once a solution is found\n",
    "    }\n",
    "    else{\n",
    "      fin <- \"no answer\" # just in case no solution exists\n",
    "    }\n",
    "  }\n",
    "  \n",
    "  f1 <- which(x) #items we should take based on index\n",
    "  \n",
    "  f2 <- fun # total benfit based off solution given\n",
    "  \n",
    "  fc <- (sum(c*fin)) # total cost based off solution given\n",
    "  \n",
    "  ti <- Sys.time()-strt # takes the current time and subtracts the initial time the algoirthm began\n",
    "  \n",
    "  return(list(\"Pick Items\" = f1, Profit = f2, Cost = fc, \"Calculation Time\" = ti)) # list of good stuff\n",
    "}\n"
   ]
  },
  {
   "cell_type": "markdown",
   "metadata": {},
   "source": [
    "Here are some tester cases"
   ]
  },
  {
   "cell_type": "code",
   "execution_count": 2,
   "metadata": {},
   "outputs": [
    {
     "data": {
      "text/plain": [
       "$`Pick Items`\n",
       "[1] 2 3 4\n",
       "\n",
       "$Profit\n",
       "[1] 23\n",
       "\n",
       "$Cost\n",
       "[1] 47\n",
       "\n",
       "$`Calculation Time`\n",
       "Time difference of 0.135128 secs\n"
      ]
     },
     "metadata": {},
     "output_type": "display_data"
    }
   ],
   "source": [
    "#example 1: from Homework 3\n",
    "b <- c(3,8,9,6,2) #benefit vector\n",
    "c <- c(12,15,16,16,10) #cost vector\n",
    "tol <- 55\n",
    "knapsack2(b,c,tol)"
   ]
  },
  {
   "cell_type": "code",
   "execution_count": 3,
   "metadata": {},
   "outputs": [
    {
     "data": {
      "text/plain": [
       "$`Pick Items`\n",
       "[1] 2 5\n",
       "\n",
       "$Profit\n",
       "[1] 68\n",
       "\n",
       "$Cost\n",
       "[1] 97\n",
       "\n",
       "$`Calculation Time`\n",
       "Time difference of 0.1305978 secs\n"
      ]
     },
     "metadata": {},
     "output_type": "display_data"
    }
   ],
   "source": [
    "#example 2: from HW 5 Prob. 1\n",
    "b <- c(29,43,42,27,25)\n",
    "c <- c(42,65,68,48,32)\n",
    "tol <- 100\n",
    "knapsack2(b,c,tol)"
   ]
  },
  {
   "cell_type": "code",
   "execution_count": 4,
   "metadata": {},
   "outputs": [
    {
     "data": {
      "text/plain": [
       "$`Pick Items`\n",
       "[1] 2 3 4\n",
       "\n",
       "$Profit\n",
       "[1] 23\n",
       "\n",
       "$Cost\n",
       "[1] 47\n",
       "\n",
       "$`Calculation Time`\n",
       "Time difference of 0.5439661 secs\n"
      ]
     },
     "metadata": {},
     "output_type": "display_data"
    }
   ],
   "source": [
    "#example 3\n",
    "b <- c(3,8,9,6,2,4,5)\n",
    "c <- c(12,15,16,16,10,13,20)\n",
    "tol <- 48\n",
    "knapsack2(b,c,tol)"
   ]
  },
  {
   "cell_type": "code",
   "execution_count": 5,
   "metadata": {},
   "outputs": [
    {
     "data": {
      "text/plain": [
       "$`Pick Items`\n",
       "[1]  2  3  8  9 10 12\n",
       "\n",
       "$Profit\n",
       "[1] 57\n",
       "\n",
       "$Cost\n",
       "[1] 83\n",
       "\n",
       "$`Calculation Time`\n",
       "Time difference of 30.35406 secs\n"
      ]
     },
     "metadata": {},
     "output_type": "display_data"
    }
   ],
   "source": [
    "#example 4: Random vectors of length 9\n",
    "b <- c(3,8,9,6,2,4,5,7,10,11,4,12) #benefit vector\n",
    "c <- c(12,15,16,16,10,13,20,17,12,16,11,7) #cost vector\n",
    "tol <- 88\n",
    "knapsack2(b,c,tol)"
   ]
  },
  {
   "cell_type": "code",
   "execution_count": null,
   "metadata": {
    "collapsed": true
   },
   "outputs": [],
   "source": []
  }
 ],
 "metadata": {
  "kernelspec": {
   "display_name": "R",
   "language": "R",
   "name": "ir"
  },
  "language_info": {
   "codemirror_mode": "r",
   "file_extension": ".r",
   "mimetype": "text/x-r-source",
   "name": "R",
   "pygments_lexer": "r",
   "version": "3.4.1"
  }
 },
 "nbformat": 4,
 "nbformat_minor": 2
}
